{
 "cells": [
  {
   "cell_type": "code",
   "execution_count": 1,
   "id": "b0ef188f-b2d8-485c-9d0d-a9840a8ec94a",
   "metadata": {
    "tags": []
   },
   "outputs": [],
   "source": [
    "import numpy as np"
   ]
  },
  {
   "cell_type": "code",
   "execution_count": 3,
   "id": "2879b423-b70b-43c5-b951-14d2ade461af",
   "metadata": {
    "tags": []
   },
   "outputs": [],
   "source": [
    "class linearRegression:\n",
    "    def _init_(self,lr=0.001,n_iters=500):\n",
    "        self.lr =lr\n",
    "        self.n_iters=n_iters\n",
    "        self.weights = none\n",
    "        self.bias = none\n",
    "    def fit(self,x,y):\n",
    "        n_samples,n_features = x.shape\n",
    "        self.weights = np.zeros(n_features)\n",
    "        self.bias = 0\n",
    "        for _ in range(self.n_iters):\n",
    "            yhat = self.bias + np.dot(x,self.weights)\n",
    "            dw = (1/n_samples)*np.dot(x.T,(yhat-y))\n",
    "            db = (1/n_samples)*np.sum(yhat-y)\n",
    "            self.weights = self.weights-self.lr*dw\n",
    "            self.bias = self.bias-self.lr*db\n",
    "    def pred(self,x):\n",
    "        yhat = self.bias+np.dot(x,self.weights)\n",
    "        return yhat"
   ]
  },
  {
   "cell_type": "code",
   "execution_count": null,
   "id": "e79c804b-a3d1-42af-ad5f-1afecf8a74a2",
   "metadata": {},
   "outputs": [],
   "source": []
  }
 ],
 "metadata": {
  "kernelspec": {
   "display_name": "Python 3 (ipykernel)",
   "language": "python",
   "name": "python3"
  },
  "language_info": {
   "codemirror_mode": {
    "name": "ipython",
    "version": 3
   },
   "file_extension": ".py",
   "mimetype": "text/x-python",
   "name": "python",
   "nbconvert_exporter": "python",
   "pygments_lexer": "ipython3",
   "version": "3.11.5"
  }
 },
 "nbformat": 4,
 "nbformat_minor": 5
}
