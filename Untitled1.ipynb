{
 "cells": [
  {
   "cell_type": "code",
   "execution_count": 35,
   "id": "3def3d3c-de4c-406a-beb4-0a995f38d4ca",
   "metadata": {
    "tags": []
   },
   "outputs": [],
   "source": [
    "import pandas as pd\n",
    "import numpy as np\n",
    "import json\n",
    "import seaborn as sns\n",
    "import matplotlib.pyplot as plt"
   ]
  },
  {
   "cell_type": "code",
   "execution_count": 36,
   "id": "5ce0ba4a-479a-4753-a1e1-54132a0fb973",
   "metadata": {
    "tags": []
   },
   "outputs": [
    {
     "data": {
      "text/html": [
       "<div>\n",
       "<style scoped>\n",
       "    .dataframe tbody tr th:only-of-type {\n",
       "        vertical-align: middle;\n",
       "    }\n",
       "\n",
       "    .dataframe tbody tr th {\n",
       "        vertical-align: top;\n",
       "    }\n",
       "\n",
       "    .dataframe thead th {\n",
       "        text-align: right;\n",
       "    }\n",
       "</style>\n",
       "<table border=\"1\" class=\"dataframe\">\n",
       "  <thead>\n",
       "    <tr style=\"text-align: right;\">\n",
       "      <th></th>\n",
       "      <th>CASENO</th>\n",
       "      <th>OFFENSE</th>\n",
       "      <th>EVENTDT</th>\n",
       "      <th>EVENTTM</th>\n",
       "      <th>CVLEGEND</th>\n",
       "      <th>CVDOW</th>\n",
       "      <th>InDbDate</th>\n",
       "      <th>Block_Location</th>\n",
       "      <th>BLKADDR</th>\n",
       "      <th>City</th>\n",
       "      <th>State</th>\n",
       "    </tr>\n",
       "  </thead>\n",
       "  <tbody>\n",
       "    <tr>\n",
       "      <th>0</th>\n",
       "      <td>19092769</td>\n",
       "      <td>THEFT MISD. (UNDER $950)</td>\n",
       "      <td>12/09/2019 12:00:00 AM</td>\n",
       "      <td>13:00</td>\n",
       "      <td>LARCENY</td>\n",
       "      <td>1</td>\n",
       "      <td>09/10/2020 07:00:11 AM</td>\n",
       "      <td>SHATTUCK AVE\\nBerkeley, CA</td>\n",
       "      <td>SHATTUCK AVE</td>\n",
       "      <td>Berkeley</td>\n",
       "      <td>CA</td>\n",
       "    </tr>\n",
       "    <tr>\n",
       "      <th>1</th>\n",
       "      <td>19045891</td>\n",
       "      <td>NARCOTICS</td>\n",
       "      <td>08/18/2019 12:00:00 AM</td>\n",
       "      <td>17:20</td>\n",
       "      <td>DRUG VIOLATION</td>\n",
       "      <td>0</td>\n",
       "      <td>09/10/2020 07:00:08 AM</td>\n",
       "      <td>FRONTAGE STREET &amp;GILMAN ST\\nBerkeley, CA</td>\n",
       "      <td>FRONTAGE STREET &amp;GILMAN ST</td>\n",
       "      <td>Berkeley</td>\n",
       "      <td>CA</td>\n",
       "    </tr>\n",
       "    <tr>\n",
       "      <th>2</th>\n",
       "      <td>19060215</td>\n",
       "      <td>ASSAULT/BATTERY MISD.</td>\n",
       "      <td>10/23/2019 12:00:00 AM</td>\n",
       "      <td>10:45</td>\n",
       "      <td>ASSAULT</td>\n",
       "      <td>3</td>\n",
       "      <td>09/10/2020 07:00:10 AM</td>\n",
       "      <td>2200 MILVIA ST\\nBerkeley, CA\\n(37.868574, -122...</td>\n",
       "      <td>2200 MILVIA ST</td>\n",
       "      <td>Berkeley</td>\n",
       "      <td>CA</td>\n",
       "    </tr>\n",
       "    <tr>\n",
       "      <th>3</th>\n",
       "      <td>19092681</td>\n",
       "      <td>VANDALISM</td>\n",
       "      <td>12/01/2019 12:00:00 AM</td>\n",
       "      <td>18:40</td>\n",
       "      <td>VANDALISM</td>\n",
       "      <td>0</td>\n",
       "      <td>09/10/2020 07:00:11 AM</td>\n",
       "      <td>VIRGINIA ST\\nBerkeley, CA</td>\n",
       "      <td>VIRGINIA ST</td>\n",
       "      <td>Berkeley</td>\n",
       "      <td>CA</td>\n",
       "    </tr>\n",
       "    <tr>\n",
       "      <th>4</th>\n",
       "      <td>19044228</td>\n",
       "      <td>ASSAULT/BATTERY MISD.</td>\n",
       "      <td>08/10/2019 12:00:00 AM</td>\n",
       "      <td>22:51</td>\n",
       "      <td>ASSAULT</td>\n",
       "      <td>6</td>\n",
       "      <td>09/10/2020 07:00:08 AM</td>\n",
       "      <td>UNIVERSITY AVENUE &amp;FRONTAGE\\nBerkeley, CA</td>\n",
       "      <td>UNIVERSITY AVENUE &amp;FRONTAGE</td>\n",
       "      <td>Berkeley</td>\n",
       "      <td>CA</td>\n",
       "    </tr>\n",
       "    <tr>\n",
       "      <th>...</th>\n",
       "      <td>...</td>\n",
       "      <td>...</td>\n",
       "      <td>...</td>\n",
       "      <td>...</td>\n",
       "      <td>...</td>\n",
       "      <td>...</td>\n",
       "      <td>...</td>\n",
       "      <td>...</td>\n",
       "      <td>...</td>\n",
       "      <td>...</td>\n",
       "      <td>...</td>\n",
       "    </tr>\n",
       "    <tr>\n",
       "      <th>5222</th>\n",
       "      <td>19092686</td>\n",
       "      <td>BURGLARY AUTO</td>\n",
       "      <td>12/02/2019 12:00:00 AM</td>\n",
       "      <td>08:30</td>\n",
       "      <td>BURGLARY - VEHICLE</td>\n",
       "      <td>1</td>\n",
       "      <td>09/10/2020 07:00:11 AM</td>\n",
       "      <td>1000 GILMAN ST\\nBerkeley, CA\\n(37.88014, -122....</td>\n",
       "      <td>1000 GILMAN ST</td>\n",
       "      <td>Berkeley</td>\n",
       "      <td>CA</td>\n",
       "    </tr>\n",
       "    <tr>\n",
       "      <th>5223</th>\n",
       "      <td>19043965</td>\n",
       "      <td>THEFT MISD. (UNDER $950)</td>\n",
       "      <td>08/05/2019 12:00:00 AM</td>\n",
       "      <td>23:30</td>\n",
       "      <td>LARCENY</td>\n",
       "      <td>1</td>\n",
       "      <td>09/10/2020 07:00:08 AM</td>\n",
       "      <td>2300 WARD ST\\nBerkeley, CA\\n(37.860105, -122.2...</td>\n",
       "      <td>2300 WARD ST</td>\n",
       "      <td>Berkeley</td>\n",
       "      <td>CA</td>\n",
       "    </tr>\n",
       "    <tr>\n",
       "      <th>5224</th>\n",
       "      <td>19052923</td>\n",
       "      <td>BURGLARY AUTO</td>\n",
       "      <td>09/19/2019 12:00:00 AM</td>\n",
       "      <td>13:30</td>\n",
       "      <td>BURGLARY - VEHICLE</td>\n",
       "      <td>4</td>\n",
       "      <td>09/10/2020 07:00:09 AM</td>\n",
       "      <td>1500 SHATTUCK AV\\nBerkeley, CA\\n(37.880227, -1...</td>\n",
       "      <td>1500 SHATTUCK AV</td>\n",
       "      <td>Berkeley</td>\n",
       "      <td>CA</td>\n",
       "    </tr>\n",
       "    <tr>\n",
       "      <th>5225</th>\n",
       "      <td>19049410</td>\n",
       "      <td>DISTURBANCE</td>\n",
       "      <td>08/05/2019 12:00:00 AM</td>\n",
       "      <td>10:00</td>\n",
       "      <td>DISORDERLY CONDUCT</td>\n",
       "      <td>1</td>\n",
       "      <td>09/10/2020 07:00:09 AM</td>\n",
       "      <td>2900 REGENT ST\\nBerkeley, CA\\n(37.857787, -122...</td>\n",
       "      <td>2900 REGENT ST</td>\n",
       "      <td>Berkeley</td>\n",
       "      <td>CA</td>\n",
       "    </tr>\n",
       "    <tr>\n",
       "      <th>5226</th>\n",
       "      <td>19092182</td>\n",
       "      <td>BURGLARY AUTO</td>\n",
       "      <td>10/10/2019 12:00:00 AM</td>\n",
       "      <td>09:55</td>\n",
       "      <td>BURGLARY - VEHICLE</td>\n",
       "      <td>4</td>\n",
       "      <td>09/10/2020 07:00:10 AM</td>\n",
       "      <td>1500 SHATTUCK AV\\nBerkeley, CA\\n(37.880227, -1...</td>\n",
       "      <td>1500 SHATTUCK AV</td>\n",
       "      <td>Berkeley</td>\n",
       "      <td>CA</td>\n",
       "    </tr>\n",
       "  </tbody>\n",
       "</table>\n",
       "<p>5227 rows × 11 columns</p>\n",
       "</div>"
      ],
      "text/plain": [
       "        CASENO                   OFFENSE                 EVENTDT EVENTTM  \\\n",
       "0     19092769  THEFT MISD. (UNDER $950)  12/09/2019 12:00:00 AM   13:00   \n",
       "1     19045891                 NARCOTICS  08/18/2019 12:00:00 AM   17:20   \n",
       "2     19060215     ASSAULT/BATTERY MISD.  10/23/2019 12:00:00 AM   10:45   \n",
       "3     19092681                 VANDALISM  12/01/2019 12:00:00 AM   18:40   \n",
       "4     19044228     ASSAULT/BATTERY MISD.  08/10/2019 12:00:00 AM   22:51   \n",
       "...        ...                       ...                     ...     ...   \n",
       "5222  19092686             BURGLARY AUTO  12/02/2019 12:00:00 AM   08:30   \n",
       "5223  19043965  THEFT MISD. (UNDER $950)  08/05/2019 12:00:00 AM   23:30   \n",
       "5224  19052923             BURGLARY AUTO  09/19/2019 12:00:00 AM   13:30   \n",
       "5225  19049410               DISTURBANCE  08/05/2019 12:00:00 AM   10:00   \n",
       "5226  19092182             BURGLARY AUTO  10/10/2019 12:00:00 AM   09:55   \n",
       "\n",
       "                CVLEGEND  CVDOW                InDbDate  \\\n",
       "0                LARCENY      1  09/10/2020 07:00:11 AM   \n",
       "1         DRUG VIOLATION      0  09/10/2020 07:00:08 AM   \n",
       "2                ASSAULT      3  09/10/2020 07:00:10 AM   \n",
       "3              VANDALISM      0  09/10/2020 07:00:11 AM   \n",
       "4                ASSAULT      6  09/10/2020 07:00:08 AM   \n",
       "...                  ...    ...                     ...   \n",
       "5222  BURGLARY - VEHICLE      1  09/10/2020 07:00:11 AM   \n",
       "5223             LARCENY      1  09/10/2020 07:00:08 AM   \n",
       "5224  BURGLARY - VEHICLE      4  09/10/2020 07:00:09 AM   \n",
       "5225  DISORDERLY CONDUCT      1  09/10/2020 07:00:09 AM   \n",
       "5226  BURGLARY - VEHICLE      4  09/10/2020 07:00:10 AM   \n",
       "\n",
       "                                         Block_Location  \\\n",
       "0                            SHATTUCK AVE\\nBerkeley, CA   \n",
       "1              FRONTAGE STREET &GILMAN ST\\nBerkeley, CA   \n",
       "2     2200 MILVIA ST\\nBerkeley, CA\\n(37.868574, -122...   \n",
       "3                             VIRGINIA ST\\nBerkeley, CA   \n",
       "4             UNIVERSITY AVENUE &FRONTAGE\\nBerkeley, CA   \n",
       "...                                                 ...   \n",
       "5222  1000 GILMAN ST\\nBerkeley, CA\\n(37.88014, -122....   \n",
       "5223  2300 WARD ST\\nBerkeley, CA\\n(37.860105, -122.2...   \n",
       "5224  1500 SHATTUCK AV\\nBerkeley, CA\\n(37.880227, -1...   \n",
       "5225  2900 REGENT ST\\nBerkeley, CA\\n(37.857787, -122...   \n",
       "5226  1500 SHATTUCK AV\\nBerkeley, CA\\n(37.880227, -1...   \n",
       "\n",
       "                          BLKADDR      City State  \n",
       "0                    SHATTUCK AVE  Berkeley    CA  \n",
       "1      FRONTAGE STREET &GILMAN ST  Berkeley    CA  \n",
       "2                  2200 MILVIA ST  Berkeley    CA  \n",
       "3                     VIRGINIA ST  Berkeley    CA  \n",
       "4     UNIVERSITY AVENUE &FRONTAGE  Berkeley    CA  \n",
       "...                           ...       ...   ...  \n",
       "5222               1000 GILMAN ST  Berkeley    CA  \n",
       "5223                 2300 WARD ST  Berkeley    CA  \n",
       "5224             1500 SHATTUCK AV  Berkeley    CA  \n",
       "5225               2900 REGENT ST  Berkeley    CA  \n",
       "5226             1500 SHATTUCK AV  Berkeley    CA  \n",
       "\n",
       "[5227 rows x 11 columns]"
      ]
     },
     "execution_count": 36,
     "metadata": {},
     "output_type": "execute_result"
    }
   ],
   "source": [
    "calls = pd.read_csv('calls_for_service.csv')\n",
    "calls"
   ]
  },
  {
   "cell_type": "code",
   "execution_count": 37,
   "id": "2b3d08a6-081b-4442-b19e-4491deb7b780",
   "metadata": {
    "tags": []
   },
   "outputs": [
    {
     "data": {
      "text/plain": [
       "(5227, 11)"
      ]
     },
     "execution_count": 37,
     "metadata": {},
     "output_type": "execute_result"
    }
   ],
   "source": [
    "calls.shape"
   ]
  },
  {
   "cell_type": "code",
   "execution_count": 38,
   "id": "f49ab5f4-1dff-479c-912b-f13c65aef932",
   "metadata": {
    "tags": []
   },
   "outputs": [
    {
     "data": {
      "text/plain": [
       "CASENO             int64\n",
       "OFFENSE           object\n",
       "EVENTDT           object\n",
       "EVENTTM           object\n",
       "CVLEGEND          object\n",
       "CVDOW              int64\n",
       "InDbDate          object\n",
       "Block_Location    object\n",
       "BLKADDR           object\n",
       "City              object\n",
       "State             object\n",
       "dtype: object"
      ]
     },
     "execution_count": 38,
     "metadata": {},
     "output_type": "execute_result"
    }
   ],
   "source": [
    "calls.dtypes"
   ]
  },
  {
   "cell_type": "code",
   "execution_count": 39,
   "id": "e1a21846-2c25-4b21-9d1f-95a63e28a0ae",
   "metadata": {
    "tags": []
   },
   "outputs": [
    {
     "data": {
      "text/plain": [
       "(5227,)"
      ]
     },
     "execution_count": 39,
     "metadata": {},
     "output_type": "execute_result"
    }
   ],
   "source": [
    "calls.CASENO.unique().shape"
   ]
  },
  {
   "cell_type": "code",
   "execution_count": 40,
   "id": "ce2dfaf5-606c-4518-8f44-2dd8b502c313",
   "metadata": {
    "tags": []
   },
   "outputs": [
    {
     "data": {
      "text/plain": [
       "array([19092769, 19045891, 19060215, ..., 19052923, 19049410, 19092182],\n",
       "      dtype=int64)"
      ]
     },
     "execution_count": 40,
     "metadata": {},
     "output_type": "execute_result"
    }
   ],
   "source": [
    "calls['CASENO'].unique()"
   ]
  },
  {
   "cell_type": "code",
   "execution_count": 41,
   "id": "c0796477-5357-4bcf-8ae3-7660577f6e90",
   "metadata": {
    "tags": []
   },
   "outputs": [
    {
     "data": {
      "text/plain": [
       "5227"
      ]
     },
     "execution_count": 41,
     "metadata": {},
     "output_type": "execute_result"
    }
   ],
   "source": [
    "calls.CASENO.nunique()"
   ]
  },
  {
   "cell_type": "code",
   "execution_count": 42,
   "id": "235b0cf8-15b5-42c3-a46a-0f21590a32c3",
   "metadata": {
    "tags": []
   },
   "outputs": [],
   "source": [
    "calls['CVDOW']=calls['CVDOW'].replace([0,1,2,3,4,5,6],['Sunday','Monday', 'Tuesday', 'Wednesday',' Thursday', 'Friday', 'Saturday'])"
   ]
  },
  {
   "cell_type": "code",
   "execution_count": 43,
   "id": "4970b0e0-cd40-44b9-b563-dd09461e4e16",
   "metadata": {
    "tags": []
   },
   "outputs": [
    {
     "data": {
      "text/html": [
       "<div>\n",
       "<style scoped>\n",
       "    .dataframe tbody tr th:only-of-type {\n",
       "        vertical-align: middle;\n",
       "    }\n",
       "\n",
       "    .dataframe tbody tr th {\n",
       "        vertical-align: top;\n",
       "    }\n",
       "\n",
       "    .dataframe thead th {\n",
       "        text-align: right;\n",
       "    }\n",
       "</style>\n",
       "<table border=\"1\" class=\"dataframe\">\n",
       "  <thead>\n",
       "    <tr style=\"text-align: right;\">\n",
       "      <th></th>\n",
       "      <th>CASENO</th>\n",
       "      <th>OFFENSE</th>\n",
       "      <th>EVENTDT</th>\n",
       "      <th>EVENTTM</th>\n",
       "      <th>CVLEGEND</th>\n",
       "      <th>CVDOW</th>\n",
       "      <th>InDbDate</th>\n",
       "      <th>Block_Location</th>\n",
       "      <th>BLKADDR</th>\n",
       "      <th>City</th>\n",
       "      <th>State</th>\n",
       "    </tr>\n",
       "  </thead>\n",
       "  <tbody>\n",
       "    <tr>\n",
       "      <th>0</th>\n",
       "      <td>19092769</td>\n",
       "      <td>THEFT MISD. (UNDER $950)</td>\n",
       "      <td>12/09/2019 12:00:00 AM</td>\n",
       "      <td>13:00</td>\n",
       "      <td>LARCENY</td>\n",
       "      <td>Monday</td>\n",
       "      <td>09/10/2020 07:00:11 AM</td>\n",
       "      <td>SHATTUCK AVE\\nBerkeley, CA</td>\n",
       "      <td>SHATTUCK AVE</td>\n",
       "      <td>Berkeley</td>\n",
       "      <td>CA</td>\n",
       "    </tr>\n",
       "    <tr>\n",
       "      <th>1</th>\n",
       "      <td>19045891</td>\n",
       "      <td>NARCOTICS</td>\n",
       "      <td>08/18/2019 12:00:00 AM</td>\n",
       "      <td>17:20</td>\n",
       "      <td>DRUG VIOLATION</td>\n",
       "      <td>Sunday</td>\n",
       "      <td>09/10/2020 07:00:08 AM</td>\n",
       "      <td>FRONTAGE STREET &amp;GILMAN ST\\nBerkeley, CA</td>\n",
       "      <td>FRONTAGE STREET &amp;GILMAN ST</td>\n",
       "      <td>Berkeley</td>\n",
       "      <td>CA</td>\n",
       "    </tr>\n",
       "    <tr>\n",
       "      <th>2</th>\n",
       "      <td>19060215</td>\n",
       "      <td>ASSAULT/BATTERY MISD.</td>\n",
       "      <td>10/23/2019 12:00:00 AM</td>\n",
       "      <td>10:45</td>\n",
       "      <td>ASSAULT</td>\n",
       "      <td>Wednesday</td>\n",
       "      <td>09/10/2020 07:00:10 AM</td>\n",
       "      <td>2200 MILVIA ST\\nBerkeley, CA\\n(37.868574, -122...</td>\n",
       "      <td>2200 MILVIA ST</td>\n",
       "      <td>Berkeley</td>\n",
       "      <td>CA</td>\n",
       "    </tr>\n",
       "    <tr>\n",
       "      <th>3</th>\n",
       "      <td>19092681</td>\n",
       "      <td>VANDALISM</td>\n",
       "      <td>12/01/2019 12:00:00 AM</td>\n",
       "      <td>18:40</td>\n",
       "      <td>VANDALISM</td>\n",
       "      <td>Sunday</td>\n",
       "      <td>09/10/2020 07:00:11 AM</td>\n",
       "      <td>VIRGINIA ST\\nBerkeley, CA</td>\n",
       "      <td>VIRGINIA ST</td>\n",
       "      <td>Berkeley</td>\n",
       "      <td>CA</td>\n",
       "    </tr>\n",
       "    <tr>\n",
       "      <th>4</th>\n",
       "      <td>19044228</td>\n",
       "      <td>ASSAULT/BATTERY MISD.</td>\n",
       "      <td>08/10/2019 12:00:00 AM</td>\n",
       "      <td>22:51</td>\n",
       "      <td>ASSAULT</td>\n",
       "      <td>Saturday</td>\n",
       "      <td>09/10/2020 07:00:08 AM</td>\n",
       "      <td>UNIVERSITY AVENUE &amp;FRONTAGE\\nBerkeley, CA</td>\n",
       "      <td>UNIVERSITY AVENUE &amp;FRONTAGE</td>\n",
       "      <td>Berkeley</td>\n",
       "      <td>CA</td>\n",
       "    </tr>\n",
       "    <tr>\n",
       "      <th>...</th>\n",
       "      <td>...</td>\n",
       "      <td>...</td>\n",
       "      <td>...</td>\n",
       "      <td>...</td>\n",
       "      <td>...</td>\n",
       "      <td>...</td>\n",
       "      <td>...</td>\n",
       "      <td>...</td>\n",
       "      <td>...</td>\n",
       "      <td>...</td>\n",
       "      <td>...</td>\n",
       "    </tr>\n",
       "    <tr>\n",
       "      <th>5222</th>\n",
       "      <td>19092686</td>\n",
       "      <td>BURGLARY AUTO</td>\n",
       "      <td>12/02/2019 12:00:00 AM</td>\n",
       "      <td>08:30</td>\n",
       "      <td>BURGLARY - VEHICLE</td>\n",
       "      <td>Monday</td>\n",
       "      <td>09/10/2020 07:00:11 AM</td>\n",
       "      <td>1000 GILMAN ST\\nBerkeley, CA\\n(37.88014, -122....</td>\n",
       "      <td>1000 GILMAN ST</td>\n",
       "      <td>Berkeley</td>\n",
       "      <td>CA</td>\n",
       "    </tr>\n",
       "    <tr>\n",
       "      <th>5223</th>\n",
       "      <td>19043965</td>\n",
       "      <td>THEFT MISD. (UNDER $950)</td>\n",
       "      <td>08/05/2019 12:00:00 AM</td>\n",
       "      <td>23:30</td>\n",
       "      <td>LARCENY</td>\n",
       "      <td>Monday</td>\n",
       "      <td>09/10/2020 07:00:08 AM</td>\n",
       "      <td>2300 WARD ST\\nBerkeley, CA\\n(37.860105, -122.2...</td>\n",
       "      <td>2300 WARD ST</td>\n",
       "      <td>Berkeley</td>\n",
       "      <td>CA</td>\n",
       "    </tr>\n",
       "    <tr>\n",
       "      <th>5224</th>\n",
       "      <td>19052923</td>\n",
       "      <td>BURGLARY AUTO</td>\n",
       "      <td>09/19/2019 12:00:00 AM</td>\n",
       "      <td>13:30</td>\n",
       "      <td>BURGLARY - VEHICLE</td>\n",
       "      <td>Thursday</td>\n",
       "      <td>09/10/2020 07:00:09 AM</td>\n",
       "      <td>1500 SHATTUCK AV\\nBerkeley, CA\\n(37.880227, -1...</td>\n",
       "      <td>1500 SHATTUCK AV</td>\n",
       "      <td>Berkeley</td>\n",
       "      <td>CA</td>\n",
       "    </tr>\n",
       "    <tr>\n",
       "      <th>5225</th>\n",
       "      <td>19049410</td>\n",
       "      <td>DISTURBANCE</td>\n",
       "      <td>08/05/2019 12:00:00 AM</td>\n",
       "      <td>10:00</td>\n",
       "      <td>DISORDERLY CONDUCT</td>\n",
       "      <td>Monday</td>\n",
       "      <td>09/10/2020 07:00:09 AM</td>\n",
       "      <td>2900 REGENT ST\\nBerkeley, CA\\n(37.857787, -122...</td>\n",
       "      <td>2900 REGENT ST</td>\n",
       "      <td>Berkeley</td>\n",
       "      <td>CA</td>\n",
       "    </tr>\n",
       "    <tr>\n",
       "      <th>5226</th>\n",
       "      <td>19092182</td>\n",
       "      <td>BURGLARY AUTO</td>\n",
       "      <td>10/10/2019 12:00:00 AM</td>\n",
       "      <td>09:55</td>\n",
       "      <td>BURGLARY - VEHICLE</td>\n",
       "      <td>Thursday</td>\n",
       "      <td>09/10/2020 07:00:10 AM</td>\n",
       "      <td>1500 SHATTUCK AV\\nBerkeley, CA\\n(37.880227, -1...</td>\n",
       "      <td>1500 SHATTUCK AV</td>\n",
       "      <td>Berkeley</td>\n",
       "      <td>CA</td>\n",
       "    </tr>\n",
       "  </tbody>\n",
       "</table>\n",
       "<p>5227 rows × 11 columns</p>\n",
       "</div>"
      ],
      "text/plain": [
       "        CASENO                   OFFENSE                 EVENTDT EVENTTM  \\\n",
       "0     19092769  THEFT MISD. (UNDER $950)  12/09/2019 12:00:00 AM   13:00   \n",
       "1     19045891                 NARCOTICS  08/18/2019 12:00:00 AM   17:20   \n",
       "2     19060215     ASSAULT/BATTERY MISD.  10/23/2019 12:00:00 AM   10:45   \n",
       "3     19092681                 VANDALISM  12/01/2019 12:00:00 AM   18:40   \n",
       "4     19044228     ASSAULT/BATTERY MISD.  08/10/2019 12:00:00 AM   22:51   \n",
       "...        ...                       ...                     ...     ...   \n",
       "5222  19092686             BURGLARY AUTO  12/02/2019 12:00:00 AM   08:30   \n",
       "5223  19043965  THEFT MISD. (UNDER $950)  08/05/2019 12:00:00 AM   23:30   \n",
       "5224  19052923             BURGLARY AUTO  09/19/2019 12:00:00 AM   13:30   \n",
       "5225  19049410               DISTURBANCE  08/05/2019 12:00:00 AM   10:00   \n",
       "5226  19092182             BURGLARY AUTO  10/10/2019 12:00:00 AM   09:55   \n",
       "\n",
       "                CVLEGEND      CVDOW                InDbDate  \\\n",
       "0                LARCENY     Monday  09/10/2020 07:00:11 AM   \n",
       "1         DRUG VIOLATION     Sunday  09/10/2020 07:00:08 AM   \n",
       "2                ASSAULT  Wednesday  09/10/2020 07:00:10 AM   \n",
       "3              VANDALISM     Sunday  09/10/2020 07:00:11 AM   \n",
       "4                ASSAULT   Saturday  09/10/2020 07:00:08 AM   \n",
       "...                  ...        ...                     ...   \n",
       "5222  BURGLARY - VEHICLE     Monday  09/10/2020 07:00:11 AM   \n",
       "5223             LARCENY     Monday  09/10/2020 07:00:08 AM   \n",
       "5224  BURGLARY - VEHICLE   Thursday  09/10/2020 07:00:09 AM   \n",
       "5225  DISORDERLY CONDUCT     Monday  09/10/2020 07:00:09 AM   \n",
       "5226  BURGLARY - VEHICLE   Thursday  09/10/2020 07:00:10 AM   \n",
       "\n",
       "                                         Block_Location  \\\n",
       "0                            SHATTUCK AVE\\nBerkeley, CA   \n",
       "1              FRONTAGE STREET &GILMAN ST\\nBerkeley, CA   \n",
       "2     2200 MILVIA ST\\nBerkeley, CA\\n(37.868574, -122...   \n",
       "3                             VIRGINIA ST\\nBerkeley, CA   \n",
       "4             UNIVERSITY AVENUE &FRONTAGE\\nBerkeley, CA   \n",
       "...                                                 ...   \n",
       "5222  1000 GILMAN ST\\nBerkeley, CA\\n(37.88014, -122....   \n",
       "5223  2300 WARD ST\\nBerkeley, CA\\n(37.860105, -122.2...   \n",
       "5224  1500 SHATTUCK AV\\nBerkeley, CA\\n(37.880227, -1...   \n",
       "5225  2900 REGENT ST\\nBerkeley, CA\\n(37.857787, -122...   \n",
       "5226  1500 SHATTUCK AV\\nBerkeley, CA\\n(37.880227, -1...   \n",
       "\n",
       "                          BLKADDR      City State  \n",
       "0                    SHATTUCK AVE  Berkeley    CA  \n",
       "1      FRONTAGE STREET &GILMAN ST  Berkeley    CA  \n",
       "2                  2200 MILVIA ST  Berkeley    CA  \n",
       "3                     VIRGINIA ST  Berkeley    CA  \n",
       "4     UNIVERSITY AVENUE &FRONTAGE  Berkeley    CA  \n",
       "...                           ...       ...   ...  \n",
       "5222               1000 GILMAN ST  Berkeley    CA  \n",
       "5223                 2300 WARD ST  Berkeley    CA  \n",
       "5224             1500 SHATTUCK AV  Berkeley    CA  \n",
       "5225               2900 REGENT ST  Berkeley    CA  \n",
       "5226             1500 SHATTUCK AV  Berkeley    CA  \n",
       "\n",
       "[5227 rows x 11 columns]"
      ]
     },
     "execution_count": 43,
     "metadata": {},
     "output_type": "execute_result"
    }
   ],
   "source": [
    "calls"
   ]
  },
  {
   "cell_type": "code",
   "execution_count": 44,
   "id": "082e1472-a29e-49a7-aa1a-22233c48c2eb",
   "metadata": {
    "tags": []
   },
   "outputs": [
    {
     "data": {
      "text/plain": [
       "CVDOW\n",
       "Monday       788\n",
       "Friday       778\n",
       " Thursday    771\n",
       "Wednesday    751\n",
       "Saturday     749\n",
       "Tuesday      730\n",
       "Sunday       660\n",
       "Name: count, dtype: int64"
      ]
     },
     "execution_count": 44,
     "metadata": {},
     "output_type": "execute_result"
    }
   ],
   "source": [
    "calls['CVDOW'].value_counts()"
   ]
  },
  {
   "cell_type": "code",
   "execution_count": 45,
   "id": "f441b5ce-3538-47cc-8859-fcebcee87939",
   "metadata": {
    "tags": []
   },
   "outputs": [
    {
     "data": {
      "image/png": "[encoded data removed]",
      "text/plain": [
       "<Figure size 640x480 with 1 Axes>"
      ]
     },
     "metadata": {},
     "output_type": "display_data"
    }
   ],
   "source": [
    "sns.countplot(x='CVDOW', data=calls)\n",
    "plt.show()"
   ]
  },
  {
   "cell_type": "code",
   "execution_count": 46,
   "id": "1b23bc70-3c48-4919-88ad-b3ca45e54eb0",
   "metadata": {
    "tags": []
   },
   "outputs": [],
   "source": [
    "with open(\"stops.json\", \"r\") as json_file:\n",
    "    json_data = json.load(json_file)"
   ]
  },
  {
   "cell_type": "code",
   "execution_count": 47,
   "id": "e018fab7-0e5c-4e72-b191-2089e483fd97",
   "metadata": {
    "tags": []
   },
   "outputs": [
    {
     "data": {
      "text/plain": [
       "dict"
      ]
     },
     "execution_count": 47,
     "metadata": {},
     "output_type": "execute_result"
    }
   ],
   "source": [
    "type(json_data)"
   ]
  },
  {
   "cell_type": "code",
   "execution_count": 48,
   "id": "5d3ee7ff-669c-4ba0-99a3-8e9c92aef21b",
   "metadata": {
    "tags": []
   },
   "outputs": [
    {
     "data": {
      "text/plain": [
       "dict_keys(['meta', 'data'])"
      ]
     },
     "execution_count": 48,
     "metadata": {},
     "output_type": "execute_result"
    }
   ],
   "source": [
    "json_data.keys()"
   ]
  },
  {
   "cell_type": "code",
   "execution_count": 49,
   "id": "0e073cf5-75df-420d-81b0-a5fbf006294c",
   "metadata": {
    "tags": []
   },
   "outputs": [
    {
     "data": {
      "text/plain": [
       "dict_keys(['view'])"
      ]
     },
     "execution_count": 49,
     "metadata": {},
     "output_type": "execute_result"
    }
   ],
   "source": [
    "json_data['meta'].keys()"
   ]
  },
  {
   "cell_type": "code",
   "execution_count": 50,
   "id": "c516a6e9-9055-4180-998a-ca4e336b304d",
   "metadata": {
    "tags": []
   },
   "outputs": [
    {
     "data": {
      "text/plain": [
       "dict_keys(['id', 'name', 'attribution', 'averageRating', 'category', 'createdAt', 'description', 'displayType', 'downloadCount', 'hideFromCatalog', 'hideFromDataJson', 'licenseId', 'newBackend', 'numberOfComments', 'oid', 'provenance', 'publicationAppendEnabled', 'publicationDate', 'publicationGroup', 'publicationStage', 'rowsUpdatedAt', 'rowsUpdatedBy', 'tableId', 'totalTimesRated', 'viewCount', 'viewLastModified', 'viewType', 'approvals', 'columns', 'grants', 'license', 'metadata', 'owner', 'query', 'rights', 'tableAuthor', 'tags', 'flags'])"
      ]
     },
     "execution_count": 50,
     "metadata": {},
     "output_type": "execute_result"
    }
   ],
   "source": [
    "json_data['meta']['view'].keys()"
   ]
  },
  {
   "cell_type": "code",
   "execution_count": 51,
   "id": "73d844a2-d998-4197-b219-addb1e85a0fa",
   "metadata": {
    "tags": []
   },
   "outputs": [
    {
     "data": {
      "text/plain": [
       "'This data was extracted from the Departmentâ€™s Public Safety Server and covers data beginning January 26, 2015.  On January 26, 2015 the department began collecting data pursuant to General Order B-4 (issued December 31, 2014). Under that Order, officers were required to provide certain data after making any detention (vehicle, bicycle, pedestrian, suspicious auto).  This dataset provides information about detentions, including the race, sex, age range, of the person detained; the reason for the stop; the type of enforcement taken (if any), and whether or not a search was conducted.  Also provided are the date, time, location of the detention, as well as the incident number and call for service type.'"
      ]
     },
     "execution_count": 51,
     "metadata": {},
     "output_type": "execute_result"
    }
   ],
   "source": [
    "json_data['meta']['view']['description']"
   ]
  },
  {
   "cell_type": "code",
   "execution_count": 52,
   "id": "34d39382-738d-4abf-bc2c-3dc9628b2281",
   "metadata": {
    "tags": []
   },
   "outputs": [
    {
     "data": {
      "text/plain": [
       "list"
      ]
     },
     "execution_count": 52,
     "metadata": {},
     "output_type": "execute_result"
    }
   ],
   "source": [
    "type(json_data['meta']['view']['columns'])"
   ]
  },
  {
   "cell_type": "code",
   "execution_count": 53,
   "id": "6f74263f-e934-41dc-8b24-01359ee584fd",
   "metadata": {
    "tags": []
   },
   "outputs": [
    {
     "name": "stdout",
     "output_type": "stream",
     "text": [
      "0 \t ['row-2j6s.qe6z_jtkn', '00000000-0000-0000-D599-E1C6017B6966', 0, 1589533219, None, 1589533219, None, '{ }', '2017-05-02T20:50:29', '2017-00024695', '1275 WALNUT ST', 'BERKELEY', '37.88452086', '-122.268652364', '1194', 'White', 'Female', '30-39', 'Investigation', 'Warning', 'No Search']\n",
      "1 \t ['row-79rz~ucps-35r6', '00000000-0000-0000-B83C-7A2ADDC55727', 0, 1598605226, None, 1598605226, None, '{ }', '2018-02-20T18:42:04', '2018-00010451', '2176 KITTREDGE ST', 'BERKELEY', '37.868233788', '-122.266394615', '1194', 'White', 'Male', '>40', 'Investigation', 'Other', 'No Search']\n",
      "2 \t ['row-tmr9_n9ye.6bzh', '00000000-0000-0000-3120-DC62279E5799', 0, 1598605226, None, 1598605226, None, '{ }', '2020-03-04T16:18:11', '2020-00012764', '1414 UNIVERSITY AVE', 'BERKELEY', '37.869690714', '-122.283865643', 'T', 'Black', 'Female', '>40', 'Traffic', 'Citation', 'No Search']\n"
     ]
    }
   ],
   "source": [
    "for i in range(3) :\n",
    "    print(i,'\\t',json_data['data'][i])"
   ]
  },
  {
   "cell_type": "code",
   "execution_count": 54,
   "id": "e45d6beb-f4a8-4075-b552-a7f850500c69",
   "metadata": {
    "tags": []
   },
   "outputs": [
    {
     "data": {
      "text/html": [
       "<div>\n",
       "<style scoped>\n",
       "    .dataframe tbody tr th:only-of-type {\n",
       "        vertical-align: middle;\n",
       "    }\n",
       "\n",
       "    .dataframe tbody tr th {\n",
       "        vertical-align: top;\n",
       "    }\n",
       "\n",
       "    .dataframe thead th {\n",
       "        text-align: right;\n",
       "    }\n",
       "</style>\n",
       "<table border=\"1\" class=\"dataframe\">\n",
       "  <thead>\n",
       "    <tr style=\"text-align: right;\">\n",
       "      <th></th>\n",
       "      <th>sid</th>\n",
       "      <th>id</th>\n",
       "      <th>position</th>\n",
       "      <th>created_at</th>\n",
       "      <th>created_meta</th>\n",
       "      <th>updated_at</th>\n",
       "      <th>updated_meta</th>\n",
       "      <th>meta</th>\n",
       "      <th>CreateDatetime</th>\n",
       "      <th>IncidentNumber</th>\n",
       "      <th>...</th>\n",
       "      <th>City</th>\n",
       "      <th>Lat</th>\n",
       "      <th>Lon</th>\n",
       "      <th>CallType</th>\n",
       "      <th>Race</th>\n",
       "      <th>Gender</th>\n",
       "      <th>Age</th>\n",
       "      <th>Reason</th>\n",
       "      <th>Enforcement</th>\n",
       "      <th>Car Search</th>\n",
       "    </tr>\n",
       "  </thead>\n",
       "  <tbody>\n",
       "    <tr>\n",
       "      <th>0</th>\n",
       "      <td>row-2j6s.qe6z_jtkn</td>\n",
       "      <td>00000000-0000-0000-D599-E1C6017B6966</td>\n",
       "      <td>0</td>\n",
       "      <td>1589533219</td>\n",
       "      <td>None</td>\n",
       "      <td>1589533219</td>\n",
       "      <td>None</td>\n",
       "      <td>{ }</td>\n",
       "      <td>2017-05-02T20:50:29</td>\n",
       "      <td>2017-00024695</td>\n",
       "      <td>...</td>\n",
       "      <td>BERKELEY</td>\n",
       "      <td>37.88452086</td>\n",
       "      <td>-122.268652364</td>\n",
       "      <td>1194</td>\n",
       "      <td>White</td>\n",
       "      <td>Female</td>\n",
       "      <td>30-39</td>\n",
       "      <td>Investigation</td>\n",
       "      <td>Warning</td>\n",
       "      <td>No Search</td>\n",
       "    </tr>\n",
       "    <tr>\n",
       "      <th>1</th>\n",
       "      <td>row-79rz~ucps-35r6</td>\n",
       "      <td>00000000-0000-0000-B83C-7A2ADDC55727</td>\n",
       "      <td>0</td>\n",
       "      <td>1598605226</td>\n",
       "      <td>None</td>\n",
       "      <td>1598605226</td>\n",
       "      <td>None</td>\n",
       "      <td>{ }</td>\n",
       "      <td>2018-02-20T18:42:04</td>\n",
       "      <td>2018-00010451</td>\n",
       "      <td>...</td>\n",
       "      <td>BERKELEY</td>\n",
       "      <td>37.868233788</td>\n",
       "      <td>-122.266394615</td>\n",
       "      <td>1194</td>\n",
       "      <td>White</td>\n",
       "      <td>Male</td>\n",
       "      <td>&gt;40</td>\n",
       "      <td>Investigation</td>\n",
       "      <td>Other</td>\n",
       "      <td>No Search</td>\n",
       "    </tr>\n",
       "    <tr>\n",
       "      <th>2</th>\n",
       "      <td>row-tmr9_n9ye.6bzh</td>\n",
       "      <td>00000000-0000-0000-3120-DC62279E5799</td>\n",
       "      <td>0</td>\n",
       "      <td>1598605226</td>\n",
       "      <td>None</td>\n",
       "      <td>1598605226</td>\n",
       "      <td>None</td>\n",
       "      <td>{ }</td>\n",
       "      <td>2020-03-04T16:18:11</td>\n",
       "      <td>2020-00012764</td>\n",
       "      <td>...</td>\n",
       "      <td>BERKELEY</td>\n",
       "      <td>37.869690714</td>\n",
       "      <td>-122.283865643</td>\n",
       "      <td>T</td>\n",
       "      <td>Black</td>\n",
       "      <td>Female</td>\n",
       "      <td>&gt;40</td>\n",
       "      <td>Traffic</td>\n",
       "      <td>Citation</td>\n",
       "      <td>No Search</td>\n",
       "    </tr>\n",
       "    <tr>\n",
       "      <th>3</th>\n",
       "      <td>row-cjve_43yp_s8ec</td>\n",
       "      <td>00000000-0000-0000-4EEF-F940D151C603</td>\n",
       "      <td>0</td>\n",
       "      <td>1598605226</td>\n",
       "      <td>None</td>\n",
       "      <td>1598605226</td>\n",
       "      <td>None</td>\n",
       "      <td>{ }</td>\n",
       "      <td>2018-12-04T15:11:14</td>\n",
       "      <td>2018-00067166</td>\n",
       "      <td>...</td>\n",
       "      <td>BERKELEY</td>\n",
       "      <td>37.867138358</td>\n",
       "      <td>-122.268229602</td>\n",
       "      <td>1196</td>\n",
       "      <td>Hispanic</td>\n",
       "      <td>Male</td>\n",
       "      <td>30-39</td>\n",
       "      <td>Traffic</td>\n",
       "      <td>Warning</td>\n",
       "      <td>No Search</td>\n",
       "    </tr>\n",
       "    <tr>\n",
       "      <th>4</th>\n",
       "      <td>row-wxqp_6mgh-v4r5</td>\n",
       "      <td>00000000-0000-0000-8B94-7D86EB47C51D</td>\n",
       "      <td>0</td>\n",
       "      <td>1589533219</td>\n",
       "      <td>None</td>\n",
       "      <td>1589533219</td>\n",
       "      <td>None</td>\n",
       "      <td>{ }</td>\n",
       "      <td>2020-05-13T09:37:53</td>\n",
       "      <td>2020-00023435</td>\n",
       "      <td>...</td>\n",
       "      <td>BERKELEY</td>\n",
       "      <td>37.865779797</td>\n",
       "      <td>-122.267576002</td>\n",
       "      <td>1194</td>\n",
       "      <td>Black</td>\n",
       "      <td>Male</td>\n",
       "      <td>&gt;40</td>\n",
       "      <td>Traffic</td>\n",
       "      <td>Citation</td>\n",
       "      <td>No Search</td>\n",
       "    </tr>\n",
       "  </tbody>\n",
       "</table>\n",
       "<p>5 rows × 21 columns</p>\n",
       "</div>"
      ],
      "text/plain": [
       "                  sid                                    id  position  \\\n",
       "0  row-2j6s.qe6z_jtkn  00000000-0000-0000-D599-E1C6017B6966         0   \n",
       "1  row-79rz~ucps-35r6  00000000-0000-0000-B83C-7A2ADDC55727         0   \n",
       "2  row-tmr9_n9ye.6bzh  00000000-0000-0000-3120-DC62279E5799         0   \n",
       "3  row-cjve_43yp_s8ec  00000000-0000-0000-4EEF-F940D151C603         0   \n",
       "4  row-wxqp_6mgh-v4r5  00000000-0000-0000-8B94-7D86EB47C51D         0   \n",
       "\n",
       "   created_at created_meta  updated_at updated_meta meta       CreateDatetime  \\\n",
       "0  1589533219         None  1589533219         None  { }  2017-05-02T20:50:29   \n",
       "1  1598605226         None  1598605226         None  { }  2018-02-20T18:42:04   \n",
       "2  1598605226         None  1598605226         None  { }  2020-03-04T16:18:11   \n",
       "3  1598605226         None  1598605226         None  { }  2018-12-04T15:11:14   \n",
       "4  1589533219         None  1589533219         None  { }  2020-05-13T09:37:53   \n",
       "\n",
       "  IncidentNumber  ...      City           Lat             Lon CallType  \\\n",
       "0  2017-00024695  ...  BERKELEY   37.88452086  -122.268652364     1194   \n",
       "1  2018-00010451  ...  BERKELEY  37.868233788  -122.266394615     1194   \n",
       "2  2020-00012764  ...  BERKELEY  37.869690714  -122.283865643        T   \n",
       "3  2018-00067166  ...  BERKELEY  37.867138358  -122.268229602     1196   \n",
       "4  2020-00023435  ...  BERKELEY  37.865779797  -122.267576002     1194   \n",
       "\n",
       "       Race  Gender    Age         Reason Enforcement Car Search  \n",
       "0     White  Female  30-39  Investigation     Warning  No Search  \n",
       "1     White    Male    >40  Investigation       Other  No Search  \n",
       "2     Black  Female    >40        Traffic    Citation  No Search  \n",
       "3  Hispanic    Male  30-39        Traffic     Warning  No Search  \n",
       "4     Black    Male    >40        Traffic    Citation  No Search  \n",
       "\n",
       "[5 rows x 21 columns]"
      ]
     },
     "execution_count": 54,
     "metadata": {},
     "output_type": "execute_result"
    }
   ],
   "source": [
    "data = pd.DataFrame(\n",
    "      json_data['data'],\n",
    "    columns=[c['name'] for c in json_data['meta']['view']['columns']]\n",
    ")\n",
    "data.head()"
   ]
  },
  {
   "cell_type": "code",
   "execution_count": 55,
   "id": "b526eb08-f67d-4c64-9df3-becd2264c99b",
   "metadata": {
    "tags": []
   },
   "outputs": [
    {
     "data": {
      "text/html": [
       "<div>\n",
       "<style scoped>\n",
       "    .dataframe tbody tr th:only-of-type {\n",
       "        vertical-align: middle;\n",
       "    }\n",
       "\n",
       "    .dataframe tbody tr th {\n",
       "        vertical-align: top;\n",
       "    }\n",
       "\n",
       "    .dataframe thead th {\n",
       "        text-align: right;\n",
       "    }\n",
       "</style>\n",
       "<table border=\"1\" class=\"dataframe\">\n",
       "  <thead>\n",
       "    <tr style=\"text-align: right;\">\n",
       "      <th></th>\n",
       "      <th>age</th>\n",
       "      <th>is_male</th>\n",
       "      <th>movie</th>\n",
       "    </tr>\n",
       "  </thead>\n",
       "  <tbody>\n",
       "    <tr>\n",
       "      <th>0</th>\n",
       "      <td>35</td>\n",
       "      <td>False</td>\n",
       "      <td>Barbie</td>\n",
       "    </tr>\n",
       "    <tr>\n",
       "      <th>1</th>\n",
       "      <td>42</td>\n",
       "      <td>True</td>\n",
       "      <td>Oppenheimer</td>\n",
       "    </tr>\n",
       "    <tr>\n",
       "      <th>2</th>\n",
       "      <td>55</td>\n",
       "      <td>False</td>\n",
       "      <td>Barbie</td>\n",
       "    </tr>\n",
       "    <tr>\n",
       "      <th>3</th>\n",
       "      <td>77</td>\n",
       "      <td>True</td>\n",
       "      <td>Oppenheimer</td>\n",
       "    </tr>\n",
       "    <tr>\n",
       "      <th>4</th>\n",
       "      <td>31</td>\n",
       "      <td>False</td>\n",
       "      <td>Barbie</td>\n",
       "    </tr>\n",
       "    <tr>\n",
       "      <th>...</th>\n",
       "      <td>...</td>\n",
       "      <td>...</td>\n",
       "      <td>...</td>\n",
       "    </tr>\n",
       "    <tr>\n",
       "      <th>1299995</th>\n",
       "      <td>62</td>\n",
       "      <td>True</td>\n",
       "      <td>Barbie</td>\n",
       "    </tr>\n",
       "    <tr>\n",
       "      <th>1299996</th>\n",
       "      <td>78</td>\n",
       "      <td>True</td>\n",
       "      <td>Oppenheimer</td>\n",
       "    </tr>\n",
       "    <tr>\n",
       "      <th>1299997</th>\n",
       "      <td>68</td>\n",
       "      <td>False</td>\n",
       "      <td>Oppenheimer</td>\n",
       "    </tr>\n",
       "    <tr>\n",
       "      <th>1299998</th>\n",
       "      <td>82</td>\n",
       "      <td>True</td>\n",
       "      <td>Oppenheimer</td>\n",
       "    </tr>\n",
       "    <tr>\n",
       "      <th>1299999</th>\n",
       "      <td>23</td>\n",
       "      <td>False</td>\n",
       "      <td>Barbie</td>\n",
       "    </tr>\n",
       "  </tbody>\n",
       "</table>\n",
       "<p>1300000 rows × 3 columns</p>\n",
       "</div>"
      ],
      "text/plain": [
       "         age  is_male        movie\n",
       "0         35    False       Barbie\n",
       "1         42     True  Oppenheimer\n",
       "2         55    False       Barbie\n",
       "3         77     True  Oppenheimer\n",
       "4         31    False       Barbie\n",
       "...      ...      ...          ...\n",
       "1299995   62     True       Barbie\n",
       "1299996   78     True  Oppenheimer\n",
       "1299997   68    False  Oppenheimer\n",
       "1299998   82     True  Oppenheimer\n",
       "1299999   23    False       Barbie\n",
       "\n",
       "[1300000 rows x 3 columns]"
      ]
     },
     "execution_count": 55,
     "metadata": {},
     "output_type": "execute_result"
    }
   ],
   "source": [
    "movie = pd.read_csv('movie.csv')\n",
    "movie"
   ]
  },
  {
   "cell_type": "code",
   "execution_count": 56,
   "id": "744c4c1a-f15c-4f37-8ddd-6e5d20e38fbc",
   "metadata": {
    "tags": []
   },
   "outputs": [
    {
     "data": {
      "text/plain": [
       "movie\n",
       "Barbie         45.568521\n",
       "Oppenheimer    54.978215\n",
       "Name: age, dtype: float64"
      ]
     },
     "execution_count": 56,
     "metadata": {},
     "output_type": "execute_result"
    }
   ],
   "source": [
    "movie_age = movie.groupby('movie')['age'].mean()\n",
    "movie_age"
   ]
  },
  {
   "cell_type": "code",
   "execution_count": 62,
   "id": "25f39f0e-d482-4037-93ab-981f34c4681d",
   "metadata": {
    "tags": []
   },
   "outputs": [
    {
     "data": {
      "image/png": "[encoded data removed]",
      "text/plain": [
       "<Figure size 640x480 with 1 Axes>"
      ]
     },
     "metadata": {},
     "output_type": "display_data"
    }
   ],
   "source": [
    "plt.scatter(movie['age'], movie['is_male'], c=movie['is_male'].map({True: 'blue', False: 'red'}), marker='o')\n",
    "plt.show()"
   ]
  }
 ],
 "metadata": {
  "kernelspec": {
   "display_name": "Python 3 (ipykernel)",
   "language": "python",
   "name": "python3"
  },
  "language_info": {
   "codemirror_mode": {
    "name": "ipython",
    "version": 3
   },
   "file_extension": ".py",
   "mimetype": "text/x-python",
   "name": "python",
   "nbconvert_exporter": "python",
   "pygments_lexer": "ipython3",
   "version": "3.11.5"
  }
 },
 "nbformat": 4,
 "nbformat_minor": 5
}
